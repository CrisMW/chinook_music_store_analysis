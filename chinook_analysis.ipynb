{
 "cells": [
  {
   "cell_type": "markdown",
   "metadata": {},
   "source": [
    "# An analysis of the Chinook music store database\n",
    "## Answering business questions with SQL"
   ]
  },
  {
   "cell_type": "markdown",
   "metadata": {},
   "source": [
    "This project looks into the SQLite database of a fictional music streaming store called Chinook. The goal is to gain insights that can guide future decision making.<br>\n",
    "<br>\n",
    "Specifically, I will use the data to make decisions in four scenarios:\n",
    "- We have been offered several albums of different genres, but our budget only allows us to purchase some of them. Which one should we buy based on past sales data? \n",
    "- We are introducing a new bonus programm for the best performing sales rep. Who should receive the bonus? \n",
    "- We decide to reduce our costs by focussing on the countries that we are most succesful in. I will use the database to determine which countries we should focus on.\n",
    "- Lastly, we need to decide whether we should focus on offering whole albums or single tracks. I will use our data to compare order volumes for entire albums and single tracks. "
   ]
  },
  {
   "cell_type": "markdown",
   "metadata": {},
   "source": [
    "### Exploring the data"
   ]
  },
  {
   "cell_type": "markdown",
   "metadata": {},
   "source": [
    "<img src=\"chinook_schema.png\" width=\"600\"/>"
   ]
  },
  {
   "cell_type": "code",
   "execution_count": 1,
   "metadata": {},
   "outputs": [],
   "source": [
    "%%capture\n",
    "%load_ext sql\n",
    "%sql sqlite:///chinook.db"
   ]
  },
  {
   "cell_type": "code",
   "execution_count": 2,
   "metadata": {},
   "outputs": [
    {
     "name": "stdout",
     "output_type": "stream",
     "text": [
      " * sqlite:///chinook.db\n",
      "Done.\n"
     ]
    },
    {
     "data": {
      "text/html": [
       "<table>\n",
       "    <tr>\n",
       "        <th>name</th>\n",
       "        <th>type</th>\n",
       "    </tr>\n",
       "    <tr>\n",
       "        <td>album</td>\n",
       "        <td>table</td>\n",
       "    </tr>\n",
       "    <tr>\n",
       "        <td>artist</td>\n",
       "        <td>table</td>\n",
       "    </tr>\n",
       "    <tr>\n",
       "        <td>customer</td>\n",
       "        <td>table</td>\n",
       "    </tr>\n",
       "    <tr>\n",
       "        <td>employee</td>\n",
       "        <td>table</td>\n",
       "    </tr>\n",
       "    <tr>\n",
       "        <td>genre</td>\n",
       "        <td>table</td>\n",
       "    </tr>\n",
       "    <tr>\n",
       "        <td>invoice</td>\n",
       "        <td>table</td>\n",
       "    </tr>\n",
       "    <tr>\n",
       "        <td>invoice_line</td>\n",
       "        <td>table</td>\n",
       "    </tr>\n",
       "    <tr>\n",
       "        <td>media_type</td>\n",
       "        <td>table</td>\n",
       "    </tr>\n",
       "    <tr>\n",
       "        <td>playlist</td>\n",
       "        <td>table</td>\n",
       "    </tr>\n",
       "    <tr>\n",
       "        <td>playlist_track</td>\n",
       "        <td>table</td>\n",
       "    </tr>\n",
       "    <tr>\n",
       "        <td>track</td>\n",
       "        <td>table</td>\n",
       "    </tr>\n",
       "</table>"
      ],
      "text/plain": [
       "[('album', 'table'),\n",
       " ('artist', 'table'),\n",
       " ('customer', 'table'),\n",
       " ('employee', 'table'),\n",
       " ('genre', 'table'),\n",
       " ('invoice', 'table'),\n",
       " ('invoice_line', 'table'),\n",
       " ('media_type', 'table'),\n",
       " ('playlist', 'table'),\n",
       " ('playlist_track', 'table'),\n",
       " ('track', 'table')]"
      ]
     },
     "execution_count": 2,
     "metadata": {},
     "output_type": "execute_result"
    }
   ],
   "source": [
    "%%sql\n",
    "SELECT\n",
    "    name,\n",
    "    type\n",
    "FROM sqlite_master\n",
    "WHERE type IN (\"table\", \"view\");"
   ]
  },
  {
   "cell_type": "markdown",
   "metadata": {},
   "source": [
    "# Which albums should we purchase based on past sales data?"
   ]
  },
  {
   "cell_type": "markdown",
   "metadata": {},
   "source": [
    "We have been offered four albums by different artists in different genres to sell in our US store:\n",
    "\n",
    "- Regal\t(Hip-Hop)\n",
    "- Red Tone (Punk)\n",
    "- Meteor and the Girls (Pop)\n",
    "- Slim Jim Bites (Blues)\n",
    "\n",
    "Our budget allows us to purchase three. All of the artists would be new to our store, so we don't know anything about their popularity amongst our US customers. To decide which ones to buy we will instead look into the popularity of each genre amonst our US customers. "
   ]
  },
  {
   "cell_type": "code",
   "execution_count": 3,
   "metadata": {},
   "outputs": [
    {
     "name": "stdout",
     "output_type": "stream",
     "text": [
      " * sqlite:///chinook.db\n",
      "Done.\n"
     ]
    },
    {
     "data": {
      "text/html": [
       "<table>\n",
       "    <tr>\n",
       "        <th>genre</th>\n",
       "        <th>absolute</th>\n",
       "        <th>percentage</th>\n",
       "    </tr>\n",
       "    <tr>\n",
       "        <td>Rock</td>\n",
       "        <td>561</td>\n",
       "        <td>53.38</td>\n",
       "    </tr>\n",
       "    <tr>\n",
       "        <td>Alternative &amp; Punk</td>\n",
       "        <td>130</td>\n",
       "        <td>12.37</td>\n",
       "    </tr>\n",
       "    <tr>\n",
       "        <td>Metal</td>\n",
       "        <td>124</td>\n",
       "        <td>11.8</td>\n",
       "    </tr>\n",
       "    <tr>\n",
       "        <td>R&amp;B/Soul</td>\n",
       "        <td>53</td>\n",
       "        <td>5.04</td>\n",
       "    </tr>\n",
       "    <tr>\n",
       "        <td>Blues</td>\n",
       "        <td>36</td>\n",
       "        <td>3.43</td>\n",
       "    </tr>\n",
       "    <tr>\n",
       "        <td>Alternative</td>\n",
       "        <td>35</td>\n",
       "        <td>3.33</td>\n",
       "    </tr>\n",
       "    <tr>\n",
       "        <td>Latin</td>\n",
       "        <td>22</td>\n",
       "        <td>2.09</td>\n",
       "    </tr>\n",
       "    <tr>\n",
       "        <td>Pop</td>\n",
       "        <td>22</td>\n",
       "        <td>2.09</td>\n",
       "    </tr>\n",
       "    <tr>\n",
       "        <td>Hip Hop/Rap</td>\n",
       "        <td>20</td>\n",
       "        <td>1.9</td>\n",
       "    </tr>\n",
       "    <tr>\n",
       "        <td>Jazz</td>\n",
       "        <td>14</td>\n",
       "        <td>1.33</td>\n",
       "    </tr>\n",
       "    <tr>\n",
       "        <td>Easy Listening</td>\n",
       "        <td>13</td>\n",
       "        <td>1.24</td>\n",
       "    </tr>\n",
       "    <tr>\n",
       "        <td>Reggae</td>\n",
       "        <td>6</td>\n",
       "        <td>0.57</td>\n",
       "    </tr>\n",
       "    <tr>\n",
       "        <td>Electronica/Dance</td>\n",
       "        <td>5</td>\n",
       "        <td>0.48</td>\n",
       "    </tr>\n",
       "    <tr>\n",
       "        <td>Classical</td>\n",
       "        <td>4</td>\n",
       "        <td>0.38</td>\n",
       "    </tr>\n",
       "    <tr>\n",
       "        <td>Heavy Metal</td>\n",
       "        <td>3</td>\n",
       "        <td>0.29</td>\n",
       "    </tr>\n",
       "    <tr>\n",
       "        <td>Soundtrack</td>\n",
       "        <td>2</td>\n",
       "        <td>0.19</td>\n",
       "    </tr>\n",
       "    <tr>\n",
       "        <td>TV Shows</td>\n",
       "        <td>1</td>\n",
       "        <td>0.1</td>\n",
       "    </tr>\n",
       "</table>"
      ],
      "text/plain": [
       "[('Rock', 561, 53.38),\n",
       " ('Alternative & Punk', 130, 12.37),\n",
       " ('Metal', 124, 11.8),\n",
       " ('R&B/Soul', 53, 5.04),\n",
       " ('Blues', 36, 3.43),\n",
       " ('Alternative', 35, 3.33),\n",
       " ('Latin', 22, 2.09),\n",
       " ('Pop', 22, 2.09),\n",
       " ('Hip Hop/Rap', 20, 1.9),\n",
       " ('Jazz', 14, 1.33),\n",
       " ('Easy Listening', 13, 1.24),\n",
       " ('Reggae', 6, 0.57),\n",
       " ('Electronica/Dance', 5, 0.48),\n",
       " ('Classical', 4, 0.38),\n",
       " ('Heavy Metal', 3, 0.29),\n",
       " ('Soundtrack', 2, 0.19),\n",
       " ('TV Shows', 1, 0.1)]"
      ]
     },
     "execution_count": 3,
     "metadata": {},
     "output_type": "execute_result"
    }
   ],
   "source": [
    "%%sql\n",
    "WITH track_genre AS\n",
    "        (\n",
    "        SELECT\n",
    "            t.track_id,\n",
    "            g.name 'genre'\n",
    "        FROM track t\n",
    "        INNER JOIN genre g ON t.genre_id = g.genre_id\n",
    "        ),\n",
    "    invoice_track_genre AS\n",
    "        (\n",
    "        SELECT\n",
    "            il.invoice_id,\n",
    "            tg.track_id,\n",
    "            tg.genre\n",
    "        FROM invoice_line il\n",
    "        INNER JOIN track_genre tg ON il.track_id = tg.track_id\n",
    "        ),\n",
    "    invoice_country AS\n",
    "        (\n",
    "        SELECT\n",
    "            i.invoice_id,\n",
    "            c.country\n",
    "        FROM customer c\n",
    "        INNER JOIN invoice i ON i.customer_id = c.customer_id\n",
    "        ),\n",
    "    genres_usa AS\n",
    "        (\n",
    "        SELECT\n",
    "            itg.genre,\n",
    "            COUNT(itg.genre) 'absolute'\n",
    "        FROM invoice_track_genre itg\n",
    "        LEFT JOIN invoice_country ic ON itg.invoice_id = ic.invoice_id\n",
    "        GROUP BY itg.genre, ic.country\n",
    "        HAVING ic.country = 'USA'\n",
    "        ),\n",
    "    total_usa AS\n",
    "        (\n",
    "        SELECT TOTAL(absolute) 'total'\n",
    "        FROM genres_usa\n",
    "        )\n",
    "\n",
    "SELECT\n",
    "    gu.*,\n",
    "    round(absolute / ta.total * 100, 2) \"percentage\"\n",
    "FROM genres_usa gu\n",
    "LEFT JOIN total_usa ta\n",
    "ORDER BY 3 DESC"
   ]
  },
  {
   "cell_type": "markdown",
   "metadata": {},
   "source": [
    "Based on this analysis, the store should purchase albums from the artists Red Tone (Punk), Slim Jim Bites (Blues), Regal (Hip-Hop). "
   ]
  },
  {
   "cell_type": "markdown",
   "metadata": {},
   "source": [
    "# Who is our best performing sales rep?"
   ]
  },
  {
   "cell_type": "code",
   "execution_count": 4,
   "metadata": {
    "scrolled": true
   },
   "outputs": [
    {
     "name": "stdout",
     "output_type": "stream",
     "text": [
      " * sqlite:///chinook.db\n",
      "Done.\n"
     ]
    },
    {
     "data": {
      "text/html": [
       "<table>\n",
       "    <tr>\n",
       "        <th>employee_id</th>\n",
       "        <th>name</th>\n",
       "        <th>total_sales USD</th>\n",
       "    </tr>\n",
       "    <tr>\n",
       "        <td>3</td>\n",
       "        <td>Jane Peacock</td>\n",
       "        <td>1731.51</td>\n",
       "    </tr>\n",
       "    <tr>\n",
       "        <td>4</td>\n",
       "        <td>Margaret Park</td>\n",
       "        <td>1584.0</td>\n",
       "    </tr>\n",
       "    <tr>\n",
       "        <td>5</td>\n",
       "        <td>Steve Johnson</td>\n",
       "        <td>1393.92</td>\n",
       "    </tr>\n",
       "</table>"
      ],
      "text/plain": [
       "[(3, 'Jane Peacock', 1731.51),\n",
       " (4, 'Margaret Park', 1584.0),\n",
       " (5, 'Steve Johnson', 1393.92)]"
      ]
     },
     "execution_count": 4,
     "metadata": {},
     "output_type": "execute_result"
    }
   ],
   "source": [
    "%%sql\n",
    "\n",
    "WITH \n",
    "     customer_total AS\n",
    "        (\n",
    "        SELECT\n",
    "            c.support_rep_id,\n",
    "            c.customer_id,\n",
    "            SUM(i.total) 'total'\n",
    "        FROM customer c\n",
    "        INNER JOIN invoice i on i.customer_id = c.customer_id\n",
    "        GROUP BY c.customer_id\n",
    "        ),\n",
    "    rep_total AS\n",
    "        (\n",
    "        SELECT\n",
    "             SUM(total) 'total',\n",
    "             support_rep_id\n",
    "         FROM customer_total\n",
    "         GROUP BY 2\n",
    "        )\n",
    "\n",
    "SELECT\n",
    "    e.employee_id, \n",
    "    e.first_name || \" \" || e.last_name 'name',\n",
    "    ROUND(rt.total, 2)'total_sales USD'\n",
    "FROM employee e\n",
    "INNER JOIN rep_total rt on rt.support_rep_id = e.employee_id"
   ]
  },
  {
   "cell_type": "markdown",
   "metadata": {},
   "source": [
    "Based on this summary table, our sales rep Jane Peackock has shown the highest volume of sales so far. It should be her who receives the first award."
   ]
  },
  {
   "cell_type": "markdown",
   "metadata": {},
   "source": [
    "# Comparing our customer base and sales across different countries"
   ]
  },
  {
   "cell_type": "markdown",
   "metadata": {},
   "source": [
    "To determine in which countries we are doing well, we will compare the following data by country:\n",
    "- total number of customers\n",
    "- total value of sales\n",
    "- average value of sales/customer\n",
    "- average order value."
   ]
  },
  {
   "cell_type": "code",
   "execution_count": 5,
   "metadata": {},
   "outputs": [
    {
     "name": "stdout",
     "output_type": "stream",
     "text": [
      " * sqlite:///chinook.db\n",
      "Done.\n"
     ]
    },
    {
     "data": {
      "text/html": [
       "<table>\n",
       "    <tr>\n",
       "        <th>country</th>\n",
       "        <th>customers</th>\n",
       "        <th>sales_volume</th>\n",
       "        <th>average_order</th>\n",
       "        <th>avg_lifetime_value</th>\n",
       "    </tr>\n",
       "    <tr>\n",
       "        <td>USA</td>\n",
       "        <td>13</td>\n",
       "        <td>1040.49</td>\n",
       "        <td>7.94</td>\n",
       "        <td>80.04</td>\n",
       "    </tr>\n",
       "    <tr>\n",
       "        <td>Canada</td>\n",
       "        <td>8</td>\n",
       "        <td>535.59</td>\n",
       "        <td>7.05</td>\n",
       "        <td>66.95</td>\n",
       "    </tr>\n",
       "    <tr>\n",
       "        <td>Brazil</td>\n",
       "        <td>5</td>\n",
       "        <td>427.68</td>\n",
       "        <td>7.01</td>\n",
       "        <td>85.54</td>\n",
       "    </tr>\n",
       "    <tr>\n",
       "        <td>France</td>\n",
       "        <td>5</td>\n",
       "        <td>389.07</td>\n",
       "        <td>7.78</td>\n",
       "        <td>77.81</td>\n",
       "    </tr>\n",
       "    <tr>\n",
       "        <td>Germany</td>\n",
       "        <td>4</td>\n",
       "        <td>334.62</td>\n",
       "        <td>8.16</td>\n",
       "        <td>83.66</td>\n",
       "    </tr>\n",
       "    <tr>\n",
       "        <td>Czech Republic</td>\n",
       "        <td>2</td>\n",
       "        <td>273.24</td>\n",
       "        <td>9.11</td>\n",
       "        <td>136.62</td>\n",
       "    </tr>\n",
       "    <tr>\n",
       "        <td>United Kingdom</td>\n",
       "        <td>3</td>\n",
       "        <td>245.52</td>\n",
       "        <td>8.77</td>\n",
       "        <td>81.84</td>\n",
       "    </tr>\n",
       "    <tr>\n",
       "        <td>Portugal</td>\n",
       "        <td>2</td>\n",
       "        <td>185.13</td>\n",
       "        <td>6.38</td>\n",
       "        <td>92.57</td>\n",
       "    </tr>\n",
       "    <tr>\n",
       "        <td>India</td>\n",
       "        <td>2</td>\n",
       "        <td>183.15</td>\n",
       "        <td>8.72</td>\n",
       "        <td>91.58</td>\n",
       "    </tr>\n",
       "    <tr>\n",
       "        <td>Other</td>\n",
       "        <td>15</td>\n",
       "        <td>1094.94</td>\n",
       "        <td>7.45</td>\n",
       "        <td>73.0</td>\n",
       "    </tr>\n",
       "</table>"
      ],
      "text/plain": [
       "[('USA', 13, 1040.49, 7.94, 80.04),\n",
       " ('Canada', 8, 535.59, 7.05, 66.95),\n",
       " ('Brazil', 5, 427.68, 7.01, 85.54),\n",
       " ('France', 5, 389.07, 7.78, 77.81),\n",
       " ('Germany', 4, 334.62, 8.16, 83.66),\n",
       " ('Czech Republic', 2, 273.24, 9.11, 136.62),\n",
       " ('United Kingdom', 3, 245.52, 8.77, 81.84),\n",
       " ('Portugal', 2, 185.13, 6.38, 92.57),\n",
       " ('India', 2, 183.15, 8.72, 91.58),\n",
       " ('Other', 15, 1094.94, 7.45, 73.0)]"
      ]
     },
     "execution_count": 5,
     "metadata": {},
     "output_type": "execute_result"
    }
   ],
   "source": [
    "%%sql\n",
    "WITH\n",
    "    customer_orders AS\n",
    "        (\n",
    "        SELECT\n",
    "            CASE\n",
    "                WHEN\n",
    "                (\n",
    "                    SELECT count(*)\n",
    "                    FROM customer \n",
    "                    WHERE country = c.country\n",
    "                ) = 1 THEN \"Other\"\n",
    "                ELSE c.country\n",
    "            END AS 'country',\n",
    "            SUM(i.total) 'value',\n",
    "            COUNT(i.invoice_id) 'orders'\n",
    "        FROM customer c\n",
    "        INNER JOIN invoice i ON i.customer_id = c.customer_id\n",
    "        GROUP BY c.customer_id\n",
    "        ),\n",
    "    country_sales AS\n",
    "        (\n",
    "        SELECT\n",
    "            country,\n",
    "            COUNT(country) 'customers',\n",
    "            ROUND(SUM(value), 2) 'sales_volume',\n",
    "            ROUND((SUM(value) / SUM(orders)), 2) 'average_order'\n",
    "        FROM customer_orders\n",
    "        GROUP BY country\n",
    "        )\n",
    "\n",
    "SELECT\n",
    "    country, \n",
    "    customers, \n",
    "    sales_volume,\n",
    "    average_order,\n",
    "    ROUND((sales_volume / customers), 2) 'avg_lifetime_value'\n",
    "FROM\n",
    "    (SELECT \n",
    "        *,\n",
    "        CASE\n",
    "             WHEN country = 'Other' THEN 1\n",
    "             ELSE 0\n",
    "        END 'sort'\n",
    "     FROM country_sales cs\n",
    "    )\n",
    "ORDER BY sort ASC, sales_volume DESC"
   ]
  },
  {
   "cell_type": "markdown",
   "metadata": {
    "collapsed": true
   },
   "source": [
    "# Comparing purchases of whole albums vs. single tracks"
   ]
  },
  {
   "cell_type": "markdown",
   "metadata": {},
   "source": [
    "Currently, out store purchases only entire albums from labels. Customers can then buy any track from an album, or they can buy the whole album by adding all the tracks from an album to their order. To reduce our expenses, we are considering buying only select tracks instead of entire albums. This might drive away customers looking to buy an entire album. To get an idea of the impact such a change could have, we will see how many of our orders actually contain an entire album. "
   ]
  },
  {
   "cell_type": "code",
   "execution_count": 6,
   "metadata": {},
   "outputs": [
    {
     "name": "stdout",
     "output_type": "stream",
     "text": [
      " * sqlite:///chinook.db\n",
      "Done.\n"
     ]
    },
    {
     "data": {
      "text/html": [
       "<table>\n",
       "    <tr>\n",
       "        <th>total_orders</th>\n",
       "        <th>whole_album_purchases</th>\n",
       "        <th>whole_album_orders</th>\n",
       "    </tr>\n",
       "    <tr>\n",
       "        <td>614</td>\n",
       "        <td>114</td>\n",
       "        <td>0.19</td>\n",
       "    </tr>\n",
       "</table>"
      ],
      "text/plain": [
       "[(614, 114, 0.19)]"
      ]
     },
     "execution_count": 6,
     "metadata": {},
     "output_type": "execute_result"
    }
   ],
   "source": [
    "%%sql \n",
    "\n",
    "WITH invoice_line_album AS\n",
    "    (\n",
    "    SELECT\n",
    "        il.invoice_id,\n",
    "        il.track_id 'track_ila',\n",
    "        t.album_id 'album_ila'\n",
    "    FROM invoice_line il\n",
    "    LEFT JOIN track t\n",
    "    ON t.track_id = il.track_id\n",
    "    ),\n",
    "    whole_album AS\n",
    "    (\n",
    "    SELECT\n",
    "        invoice_id, \n",
    "        CASE\n",
    "            WHEN \n",
    "                (\n",
    "                    SELECT track_ila \n",
    "                    FROM invoice_line_album ila2\n",
    "                    WHERE invoice_id = ila.invoice_id\n",
    "                    EXCEPT\n",
    "                    SELECT track_id\n",
    "                    FROM track\n",
    "                    WHERE album_id = ila.album_ila\n",
    "                ) IS NULL\n",
    "                AND \n",
    "                (\n",
    "                    SELECT track_id\n",
    "                    FROM track\n",
    "                    WHERE album_id = ila.album_ila\n",
    "                    EXCEPT\n",
    "                    SELECT track_ila \n",
    "                    FROM invoice_line_album ila2\n",
    "                    WHERE invoice_id = ila.invoice_id\n",
    "                ) IS NULL\n",
    "                THEN 1\n",
    "            ELSE 0\n",
    "        END 'whole_album'\n",
    "    FROM invoice_line_album ila\n",
    "    GROUP BY 1\n",
    "    )\n",
    "\n",
    "SELECT\n",
    "    COUNT(*) 'total_orders',\n",
    "    SUM(whole_album) 'whole_album_purchases',\n",
    "    ROUND((CAST(SUM(whole_album) AS float) / CAST(COUNT(*) AS FLOAT)), 2) 'whole_album_orders'\n",
    "FROM whole_album"
   ]
  },
  {
   "cell_type": "markdown",
   "metadata": {},
   "source": [
    "Our analysis shows that about 19% of our orders are purchases of an entire album. This would suggest that switching to offering only select songs could be a good idea."
   ]
  }
 ],
 "metadata": {
  "kernelspec": {
   "display_name": "Python 3",
   "language": "python",
   "name": "python3"
  },
  "language_info": {
   "codemirror_mode": {
    "name": "ipython",
    "version": 3
   },
   "file_extension": ".py",
   "mimetype": "text/x-python",
   "name": "python",
   "nbconvert_exporter": "python",
   "pygments_lexer": "ipython3",
   "version": "3.7.6"
  }
 },
 "nbformat": 4,
 "nbformat_minor": 2
}
